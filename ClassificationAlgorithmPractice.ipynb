{
 "cells": [
  {
   "cell_type": "markdown",
   "id": "fcf23aae",
   "metadata": {},
   "source": [
    "### Classification Algorithms "
   ]
  },
  {
   "cell_type": "markdown",
   "id": "56a71edd",
   "metadata": {},
   "source": [
    "7 algorithms \n",
    "1.Logistic Regression\n",
    "2.KNN\n",
    "3.random forest classifier\n",
    "4.decision tree classifier\n",
    "5.SVM \n",
    "6.xgboost classifier\n",
    "7.Naive bayes"
   ]
  },
  {
   "cell_type": "markdown",
   "id": "0052dea3",
   "metadata": {},
   "source": [
    "#### Importing libraries"
   ]
  },
  {
   "cell_type": "code",
   "execution_count": 1,
   "id": "972c5fb8",
   "metadata": {},
   "outputs": [],
   "source": [
    "import numpy as np\n",
    "import pandas as pd\n",
    "import matplotlib.pyplot as plt\n",
    "from sklearn.datasets import load_breast_cancer\n",
    "from sklearn.model_selection import train_test_split\n",
    "from sklearn.preprocessing import StandardScaler\n",
    "from sklearn.metrics import accuracy_score\n",
    "from sklearn.linear_model import LogisticRegression\n",
    "from sklearn.neighbors import KNeighborsClassifier\n",
    "from sklearn.naive_bayes import GaussianNB\n",
    "from sklearn.tree import DecisionTreeClassifier\n",
    "from sklearn.ensemble import RandomForestClassifier\n",
    "from xgboost import XGBClassifier\n",
    "from sklearn.svm import SVC"
   ]
  },
  {
   "cell_type": "code",
   "execution_count": 2,
   "id": "2c938dd3",
   "metadata": {},
   "outputs": [],
   "source": [
    "\n",
    "# 1. Dataset Load\n",
    "data = load_breast_cancer()\n",
    "X, y = data.data, data.target\n"
   ]
  },
  {
   "cell_type": "code",
   "execution_count": 78,
   "id": "4b52530a",
   "metadata": {},
   "outputs": [],
   "source": [
    "\n",
    "# 2. Train-Test Split\n",
    "X_train, X_test, y_train, y_test = train_test_split(X, y, test_size=0.2, random_state=42)"
   ]
  },
  {
   "cell_type": "code",
   "execution_count": 79,
   "id": "5f485c99",
   "metadata": {},
   "outputs": [],
   "source": [
    "# 3. Scaling\n",
    "scaler = StandardScaler()\n",
    "X_train = scaler.fit_transform(X_train)\n",
    "X_test = scaler.transform(X_test)"
   ]
  },
  {
   "cell_type": "code",
   "execution_count": 80,
   "id": "b6c0e273",
   "metadata": {},
   "outputs": [],
   "source": [
    "\n",
    "# 4. Models One by One\n",
    "results = {}"
   ]
  },
  {
   "cell_type": "code",
   "execution_count": 81,
   "id": "99bb124f",
   "metadata": {},
   "outputs": [
    {
     "data": {
      "text/plain": [
       "0.9736842105263158"
      ]
     },
     "execution_count": 81,
     "metadata": {},
     "output_type": "execute_result"
    }
   ],
   "source": [
    "\n",
    "# Logistic Regression\n",
    "lr = LogisticRegression(max_iter=1000)\n",
    "lr.fit(X_train, y_train)\n",
    "y_pred_lr = lr.predict(X_test)\n",
    "results[\"Logistic Regression\"] = accuracy_score(y_test, y_pred_lr)\n",
    "results[\"Logistic Regression\"] "
   ]
  },
  {
   "cell_type": "code",
   "execution_count": 82,
   "id": "12aea89b",
   "metadata": {},
   "outputs": [
    {
     "data": {
      "text/plain": [
       "0.9473684210526315"
      ]
     },
     "execution_count": 82,
     "metadata": {},
     "output_type": "execute_result"
    }
   ],
   "source": [
    "# KNN\n",
    "knn = KNeighborsClassifier(n_neighbors=5)\n",
    "knn.fit(X_train, y_train)\n",
    "y_pred_knn = knn.predict(X_test)\n",
    "results[\"KNN\"] = accuracy_score(y_test, y_pred_knn)\n",
    "results[\"KNN\"]\n"
   ]
  },
  {
   "cell_type": "code",
   "execution_count": 83,
   "id": "b2d9c9d8",
   "metadata": {},
   "outputs": [
    {
     "data": {
      "text/plain": [
       "0.9649122807017544"
      ]
     },
     "execution_count": 83,
     "metadata": {},
     "output_type": "execute_result"
    }
   ],
   "source": [
    "# Naive Bayes\n",
    "nb = GaussianNB()\n",
    "nb.fit(X_train, y_train)\n",
    "y_pred_nb = nb.predict(X_test)\n",
    "results[\"Naive Bayes\"] = accuracy_score(y_test, y_pred_nb)\n",
    "results[\"Naive Bayes\"]"
   ]
  },
  {
   "cell_type": "code",
   "execution_count": 84,
   "id": "57f8c3e3",
   "metadata": {},
   "outputs": [
    {
     "data": {
      "text/plain": [
       "0.9473684210526315"
      ]
     },
     "execution_count": 84,
     "metadata": {},
     "output_type": "execute_result"
    }
   ],
   "source": [
    "\n",
    "# Decision Tree\n",
    "dt = DecisionTreeClassifier()\n",
    "dt.fit(X_train, y_train)\n",
    "y_pred_dt = dt.predict(X_test)\n",
    "results[\"Decision Tree\"] = accuracy_score(y_test, y_pred_dt)\n",
    "results[\"Decision Tree\"]"
   ]
  },
  {
   "cell_type": "code",
   "execution_count": 85,
   "id": "f5c0f96f",
   "metadata": {},
   "outputs": [
    {
     "data": {
      "text/plain": [
       "0.9649122807017544"
      ]
     },
     "execution_count": 85,
     "metadata": {},
     "output_type": "execute_result"
    }
   ],
   "source": [
    "\n",
    "# Random Forest\n",
    "rf = RandomForestClassifier(n_estimators=100)\n",
    "rf.fit(X_train, y_train)\n",
    "y_pred_rf = rf.predict(X_test)\n",
    "results[\"Random Forest\"] = accuracy_score(y_test, y_pred_rf)\n",
    "results[\"Random Forest\"]"
   ]
  },
  {
   "cell_type": "code",
   "execution_count": 90,
   "id": "b88c063b",
   "metadata": {},
   "outputs": [
    {
     "name": "stderr",
     "output_type": "stream",
     "text": [
      "c:\\Users\\User\\AppData\\Local\\Programs\\Python\\Python310\\lib\\site-packages\\xgboost\\training.py:183: UserWarning: [19:49:47] WARNING: C:\\actions-runner\\_work\\xgboost\\xgboost\\src\\learner.cc:738: \n",
      "Parameters: { \"use_label_encoder\" } are not used.\n",
      "\n",
      "  bst.update(dtrain, iteration=i, fobj=obj)\n"
     ]
    }
   ],
   "source": [
    "\n",
    "# XGBoost\n",
    "xgb = XGBClassifier(use_label_encoder=False, eval_metric='logloss')\n",
    "xgb.fit(X_train, y_train)\n",
    "y_pred_xgb = xgb.predict(X_test)\n",
    "results[\"XGBoost\"] = accuracy_score(y_test, y_pred_xgb)"
   ]
  },
  {
   "cell_type": "code",
   "execution_count": 91,
   "id": "822ec8ca",
   "metadata": {},
   "outputs": [],
   "source": [
    "\n",
    "# SVM\n",
    "svm = SVC(kernel='linear')\n",
    "svm.fit(X_train, y_train)\n",
    "y_pred_svm = svm.predict(X_test)\n",
    "results[\"SVM\"] = accuracy_score(y_test, y_pred_svm)"
   ]
  },
  {
   "cell_type": "code",
   "execution_count": 92,
   "id": "a9888574",
   "metadata": {},
   "outputs": [
    {
     "name": "stdout",
     "output_type": "stream",
     "text": [
      "Accuracy of Each Algorithm:\n",
      "Logistic Regression: 0.9737\n",
      "KNN: 0.9474\n",
      "Naive Bayes: 0.9649\n",
      "Decision Tree: 0.9474\n",
      "Random Forest: 0.9649\n",
      "XGBoost: 0.9561\n",
      "SVM: 0.9561\n"
     ]
    }
   ],
   "source": [
    "\n",
    "# 5. Print Results\n",
    "print(\"Accuracy of Each Algorithm:\")\n",
    "for algo, acc in results.items():\n",
    "    print(f\"{algo}: {acc:.4f}\")\n"
   ]
  },
  {
   "cell_type": "code",
   "execution_count": 93,
   "id": "a205433c",
   "metadata": {},
   "outputs": [
    {
     "data": {
      "image/png": "[encoded data removed]",
      "text/plain": [
       "<Figure size 1000x600 with 1 Axes>"
      ]
     },
     "metadata": {},
     "output_type": "display_data"
    }
   ],
   "source": [
    "\n",
    "# 6. Visualization\n",
    "plt.figure(figsize=(10,6))\n",
    "plt.bar(results.keys(), results.values(), color='skyblue')\n",
    "plt.title(\"Classification Algorithm Comparison\", fontsize=16)\n",
    "plt.ylabel(\"Accuracy\", fontsize=14)\n",
    "plt.xticks(rotation=30, fontsize=12)\n",
    "plt.show()"
   ]
  }
 ],
 "metadata": {
  "kernelspec": {
   "display_name": "Python 3",
   "language": "python",
   "name": "python3"
  },
  "language_info": {
   "codemirror_mode": {
    "name": "ipython",
    "version": 3
   },
   "file_extension": ".py",
   "mimetype": "text/x-python",
   "name": "python",
   "nbconvert_exporter": "python",
   "pygments_lexer": "ipython3",
   "version": "3.10.11"
  }
 },
 "nbformat": 4,
 "nbformat_minor": 5
}
